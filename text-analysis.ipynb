{
 "cells": [
  {
   "cell_type": "code",
   "execution_count": 29,
   "metadata": {},
   "outputs": [],
   "source": [
    "import json\n",
    "import azurecredentials\n",
    "from azure.core.credentials import AzureKeyCredential\n",
    "from azure.ai.textanalytics import TextAnalyticsClient"
   ]
  },
  {
   "cell_type": "code",
   "execution_count": 30,
   "metadata": {},
   "outputs": [],
   "source": [
    "credential = AzureKeyCredential(azurecredentials.key)\n",
    "text_analytics_client = TextAnalyticsClient(endpoint=azurecredentials.endpoint, credential=credential)"
   ]
  },
  {
   "cell_type": "code",
   "execution_count": 31,
   "metadata": {},
   "outputs": [],
   "source": [
    "# Code to call Text Analytics service to analyze sentiment in text\n",
    "file_name = \"./data/tweet3.json\"\n",
    "\n",
    "# Language Detection\n",
    "with open(file_name, mode='rt') as file:\n",
    "    content = json.load(file)"
   ]
  },
  {
   "cell_type": "markdown",
   "metadata": {},
   "source": [
    "Tweet text"
   ]
  },
  {
   "cell_type": "code",
   "execution_count": 32,
   "metadata": {},
   "outputs": [
    {
     "data": {
      "text/plain": [
       "'RT @TgLa7: #Nato: stop Ungheria su ingresso della Svezia e Finlandia'"
      ]
     },
     "execution_count": 32,
     "metadata": {},
     "output_type": "execute_result"
    }
   ],
   "source": [
    "content['TweetText']"
   ]
  },
  {
   "cell_type": "markdown",
   "metadata": {},
   "source": [
    "Language detection"
   ]
  },
  {
   "cell_type": "code",
   "execution_count": 37,
   "metadata": {},
   "outputs": [
    {
     "data": {
      "text/plain": [
       "'it'"
      ]
     },
     "execution_count": 37,
     "metadata": {},
     "output_type": "execute_result"
    }
   ],
   "source": [
    "detected_languages = text_analytics_client.detect_language([content['TweetText']])\n",
    "iso_lang = detected_languages[0].primary_language.iso6391_name"
   ]
  },
  {
   "cell_type": "markdown",
   "metadata": {},
   "source": [
    "Finding Key Phrases"
   ]
  },
  {
   "cell_type": "code",
   "execution_count": 35,
   "metadata": {},
   "outputs": [
    {
     "data": {
      "text/plain": [
       "[DocumentError(id=0, error=TextAnalyticsError(code=UnsupportedLanguageCode, message=Invalid language code '{'id': '0', 'primary_language': DetectedLanguage(name=Italian, iso6391_name=it, confidence_score=0.93), 'warnings': [], 'statistics': None, 'is_error': False, 'kind': 'LanguageDetection'}'. Supported languages: af,am,ar,as,az,be,bg,bn,br,bs,ca,cs,cy,da,de,el,en,eo,es,et,eu,fa,fi,fil,fr,fy,ga,gd,gl,gu,ha,he,hi,hr,hu,hy,id,it,ja,jv,ka,kk,km,kn,ko,ku,ky,la,lo,lt,lv,mg,mk,ml,mn,mr,ms,my,ne,nl,no,om,or,pa,pl,ps,pt-BR,pt-PT,ro,ru,sa,sd,si,sk,sl,so,sq,sr,su,sv,sw,ta,te,th,tr,ug,uk,ur,uz,vi,xh,yi,zh-Hans,zh-Hant. For additional details see https://aka.ms/text-analytics/language-support?tabs=key-phrase-extraction, target=None), is_error=True)]"
      ]
     },
     "execution_count": 35,
     "metadata": {},
     "output_type": "execute_result"
    }
   ],
   "source": [
    "text_analytics_client.extract_key_phrases([content['TweetText']], language=detected_language[0])"
   ]
  },
  {
   "cell_type": "code",
   "execution_count": null,
   "metadata": {},
   "outputs": [],
   "source": [
    "\n",
    "Write-Host(\"***Detecting Language***\")\n",
    "$result = Invoke-RestMethod -Method Post `\n",
    "          -Uri \"$endpoint/text/analytics/v3.1/languages\" `\n",
    "          -Headers $headers `\n",
    "          -Body $data | ConvertTo-Json -Depth 6\n",
    "\n",
    "$analysis = ($result | ConvertFrom-Json)\n",
    "$langName = $analysis.documents.detectedLanguage.name\n",
    "$langCode = $analysis.documents.detectedLanguage.iso6391Name\n",
    "$langScore = $analysis.documents.detectedLanguage.confidenceScore\n",
    "\n",
    "Write-Host (\"  - Language: $langName`n  - Code: $langCode`n  - Score: $langScore\")\n",
    "\n",
    "# Key Phrases\n",
    "\n",
    "$data = @{\n",
    "    'documents' = @(\n",
    "        @{\n",
    "            \"id\" = \"1\"\n",
    "            \"text\" = \"$txt\"\n",
    "        }\n",
    "    )\n",
    "} | ConvertTo-Json\n",
    "\n",
    "write-host \"`n`n***Finding Key Phrases***\"\n",
    "$result = Invoke-RestMethod -Method Post `\n",
    "          -Uri \"$endpoint/text/analytics/v3.1/keyPhrases\" `\n",
    "          -Headers $headers `\n",
    "          -Body $data | ConvertTo-Json -Depth 6\n",
    "\n",
    "$analysis = ($result | ConvertFrom-Json)\n",
    "\n",
    "$keyPhrases = $analysis.documents.keyPhrases\n",
    "\n",
    "Write-Host \"  - Key Phrases: \"\n",
    "foreach($keyPhrase in $keyPhrases) {\n",
    "    Write-Host (\"    \", $keyPhrase)\n",
    "}\n",
    "\n",
    "# Sentiment\n",
    "\n",
    "$data = @{\n",
    "    'documents' = @(\n",
    "        @{\n",
    "            \"id\" = \"1\"\n",
    "            \"text\" = \"$txt\"\n",
    "        }\n",
    "    )\n",
    "} | ConvertTo-Json\n",
    "\n",
    "write-host \"`n`n***Analyzing Sentiment***\"\n",
    "$result = Invoke-RestMethod -Method Post `\n",
    "          -Uri \"$endpoint/text/analytics/v3.1/sentiment\" `\n",
    "          -Headers $headers `\n",
    "          -Body $data | ConvertTo-Json -Depth 6\n",
    "\n",
    "$analysis = ($result | ConvertFrom-Json)\n",
    "\n",
    "$sentiment = $analysis.documents.sentiment\n",
    "$positive = $analysis.documents.confidenceScores.positive\n",
    "$neutral = $analysis.documents.confidenceScores.neutral\n",
    "$negative = $analysis.documents.confidenceScores.negative\n",
    "\n",
    "Write-Host (\"  - A $sentiment sentiment based on these scores:`n    - Positive: $positive`n    - Neutral: $neutral`n    - Negative: $negative\")\n",
    "\n",
    "# Known Entities\n",
    "\n",
    "$data = @{\n",
    "    'documents' = @(\n",
    "        @{\n",
    "            \"id\" = \"1\"\n",
    "            \"text\" = \"$txt\"\n",
    "        }\n",
    "    )\n",
    "} | ConvertTo-Json\n",
    "\n",
    "write-host \"`n`n***Identifying known entities***\"\n",
    "$result = Invoke-RestMethod -Method Post `\n",
    "          -Uri \"$endpoint/text/analytics/v3.1/entities/linking\" `\n",
    "          -Headers $headers `\n",
    "          -Body $data | ConvertTo-Json -Depth 6\n",
    "\n",
    "$analysis = ($result | ConvertFrom-Json)\n",
    "\n",
    "$entities = $analysis.documents[0].entities\n",
    "\n",
    "foreach ($entity in $entities) {\n",
    "    $entityName = $entity.name \n",
    "    $entityUrl = $entity.url \n",
    "    Write-Host (\"  - $entityName : $entityUrl\")\n",
    "}"
   ]
  }
 ],
 "metadata": {
  "kernelspec": {
   "display_name": "Python 3.10.5 64-bit",
   "language": "python",
   "name": "python3"
  },
  "language_info": {
   "codemirror_mode": {
    "name": "ipython",
    "version": 3
   },
   "file_extension": ".py",
   "mimetype": "text/x-python",
   "name": "python",
   "nbconvert_exporter": "python",
   "pygments_lexer": "ipython3",
   "version": "3.10.5"
  },
  "orig_nbformat": 4,
  "vscode": {
   "interpreter": {
    "hash": "369f2c481f4da34e4445cda3fffd2e751bd1c4d706f27375911949ba6bb62e1c"
   }
  }
 },
 "nbformat": 4,
 "nbformat_minor": 2
}
